{
 "cells": [
  {
   "cell_type": "code",
   "execution_count": 4,
   "id": "88dfc55a",
   "metadata": {},
   "outputs": [],
   "source": [
    "import numpy as np\n",
    "\n",
    "import matplotlib.pyplot as plt\n",
    "plt.rcParams.update({\n",
    "    \"text.usetex\": True,\n",
    "    \"font.family\": \"Times\",\n",
    "    \"font.size\": 14,\n",
    "    \"axes.titlesize\": 16,\n",
    "    \"axes.labelsize\": 16,\n",
    "    \"axes.linewidth\": 1.5,\n",
    "    \"lines.linewidth\": 2,\n",
    "    \"xtick.labelsize\": 12,\n",
    "    \"ytick.labelsize\": 12,\n",
    "    \"xtick.major.width\": 1.2,\n",
    "    \"ytick.major.width\": 1.2,\n",
    "    \"legend.fontsize\": 14,\n",
    "    \"figure.dpi\": 300,\n",
    "    \"savefig.dpi\": 300,\n",
    "    \"figure.figsize\": (8, 5),\n",
    "})\n",
    "\n",
    "import seaborn as sns\n",
    "sns.set_style(\"white\")\n",
    "sns.set_context(\"paper\")"
   ]
  },
  {
   "cell_type": "code",
   "execution_count": 5,
   "id": "769ebd9b",
   "metadata": {},
   "outputs": [],
   "source": [
    "cs = np.linspace(0, 1, 257)\n",
    "\n",
    "sparse_palette = sns.color_palette(\"Reds\", n_colors=4)\n",
    "spectral_palette = sns.color_palette(\"Blues\", n_colors=4)\n",
    "\n",
    "color_map = {\n",
    "    \"weighted_rand_sparse_0\": sparse_palette[0],\n",
    "    \"weighted_rand_sparse_1\": sparse_palette[1],\n",
    "    \"weighted_rand_sparse_2\": sparse_palette[2],\n",
    "    \"exact_sparse\": sparse_palette[3],\n",
    "    \"rand_svd_0\": spectral_palette[0],\n",
    "    \"rand_svd_1\": spectral_palette[1],\n",
    "    \"rand_svd_2\": spectral_palette[2],\n",
    "    \"low_rank\": spectral_palette[3],\n",
    "    \"quantize\": \"black\",\n",
    "}\n",
    "\n",
    "label_map = {\n",
    "    \"weighted_rand_sparse_0\": r\"$\\mathrm{RandSparse_0}$\",\n",
    "    \"weighted_rand_sparse_1\": r\"$\\mathrm{RandSparse_1}$\",\n",
    "    \"weighted_rand_sparse_2\": r\"$\\mathrm{RandSparse_2}$\",\n",
    "    \"exact_sparse\": r\"$\\mathrm{Sparse}$\",\n",
    "    \"rand_svd_0\": r\"$\\mathrm{RandSVD_0}$\",\n",
    "    \"rand_svd_1\": r\"$\\mathrm{RandSVD_1}$\",\n",
    "    \"rand_svd_2\": r\"$\\mathrm{RandSVD_2}$\",\n",
    "    \"low_rank\": r\"$\\mathrm{SVD}$\",\n",
    "    \"quantize\": r\"$\\mathrm{Quant}$\",\n",
    "}\n",
    "\n",
    "def pretty_graph():\n",
    "    sns.despine()\n",
    "    plt.tight_layout()\n",
    "    plt.gca().xaxis.set_ticks_position(\"bottom\")\n",
    "    plt.gca().yaxis.set_ticks_position(\"left\")\n",
    "    plt.legend(frameon=False)\n"
   ]
  },
  {
   "cell_type": "code",
   "execution_count": 24,
   "id": "64081429",
   "metadata": {},
   "outputs": [],
   "source": [
    "a = np.load(\"data/distilbert_ag_news/aA_ab_acc_low_rank_full.npy\")\n",
    "np.save(\"data/distilbert_ag_news/aA_ab_acc_low_rank.npy\", a[744:])"
   ]
  },
  {
   "cell_type": "code",
   "execution_count": null,
   "id": "9a6d739b",
   "metadata": {},
   "outputs": [
    {
     "name": "stdout",
     "output_type": "stream",
     "text": [
      "Unexpected exception formatting exception. Falling back to standard exception\n"
     ]
    },
    {
     "name": "stderr",
     "output_type": "stream",
     "text": [
      "Traceback (most recent call last):\n",
      "  File \"/Users/poset/Desktop/MIT/ml_approx/.venv/lib/python3.9/site-packages/IPython/core/interactiveshell.py\", line 3550, in run_code\n",
      "  File \"/var/folders/w0/14p5k55x66q23_9t9vhg92wm0000gn/T/ipykernel_79653/2186714340.py\", line 21, in <module>\n",
      "    sns.lineplot(\n",
      "  File \"/Users/poset/Desktop/MIT/ml_approx/.venv/lib/python3.9/site-packages/seaborn/relational.py\", line 485, in lineplot\n",
      "  File \"/Users/poset/Desktop/MIT/ml_approx/.venv/lib/python3.9/site-packages/seaborn/relational.py\", line 216, in __init__\n",
      "  File \"/Users/poset/Desktop/MIT/ml_approx/.venv/lib/python3.9/site-packages/seaborn/_base.py\", line 634, in __init__\n",
      "  File \"/Users/poset/Desktop/MIT/ml_approx/.venv/lib/python3.9/site-packages/seaborn/_base.py\", line 679, in assign_variables\n",
      "  File \"/Users/poset/Desktop/MIT/ml_approx/.venv/lib/python3.9/site-packages/seaborn/_core/data.py\", line 58, in __init__\n",
      "  File \"/Users/poset/Desktop/MIT/ml_approx/.venv/lib/python3.9/site-packages/seaborn/_core/data.py\", line 265, in _assign_variables\n",
      "  File \"/Users/poset/Desktop/MIT/ml_approx/.venv/lib/python3.9/site-packages/pandas/core/frame.py\", line 778, in __init__\n",
      "  File \"/Users/poset/Desktop/MIT/ml_approx/.venv/lib/python3.9/site-packages/pandas/core/internals/construction.py\", line 503, in dict_to_mgr\n",
      "  File \"/Users/poset/Desktop/MIT/ml_approx/.venv/lib/python3.9/site-packages/pandas/core/internals/construction.py\", line 114, in arrays_to_mgr\n",
      "  File \"/Users/poset/Desktop/MIT/ml_approx/.venv/lib/python3.9/site-packages/pandas/core/internals/construction.py\", line 677, in _extract_index\n",
      "ValueError: All arrays must be of the same length\n",
      "\n",
      "During handling of the above exception, another exception occurred:\n",
      "\n",
      "Traceback (most recent call last):\n",
      "  File \"/Users/poset/Desktop/MIT/ml_approx/.venv/lib/python3.9/site-packages/pygments/styles/__init__.py\", line 45, in get_style_by_name\n",
      "ModuleNotFoundError: No module named 'pygments.styles.default'\n",
      "\n",
      "During handling of the above exception, another exception occurred:\n",
      "\n",
      "Traceback (most recent call last):\n",
      "  File \"/Users/poset/Desktop/MIT/ml_approx/.venv/lib/python3.9/site-packages/IPython/core/interactiveshell.py\", line 2144, in showtraceback\n",
      "  File \"/Users/poset/Desktop/MIT/ml_approx/.venv/lib/python3.9/site-packages/IPython/core/ultratb.py\", line 1435, in structured_traceback\n",
      "  File \"/Users/poset/Desktop/MIT/ml_approx/.venv/lib/python3.9/site-packages/IPython/core/ultratb.py\", line 1326, in structured_traceback\n",
      "  File \"/Users/poset/Desktop/MIT/ml_approx/.venv/lib/python3.9/site-packages/IPython/core/ultratb.py\", line 1173, in structured_traceback\n",
      "  File \"/Users/poset/Desktop/MIT/ml_approx/.venv/lib/python3.9/site-packages/IPython/core/ultratb.py\", line 1063, in format_exception_as_a_whole\n",
      "  File \"/Users/poset/Desktop/MIT/ml_approx/.venv/lib/python3.9/site-packages/IPython/core/ultratb.py\", line 1114, in get_records\n",
      "  File \"/Users/poset/Desktop/MIT/ml_approx/.venv/lib/python3.9/site-packages/pygments/styles/__init__.py\", line 47, in get_style_by_name\n",
      "pygments.util.ClassNotFound: Could not find style module 'pygments.styles.default', though it should be builtin.\n"
     ]
    }
   ],
   "source": [
    "# metric = \"l2\"\n",
    "metric = \"acc\"\n",
    "# metric = \"loss\"\n",
    "\n",
    "ylabel = {\n",
    "    \"l2\": r\"$\\ell_2$ distance\",\n",
    "    \"acc\": \"accuracy\",\n",
    "    \"loss\": \"negative log-likelihood loss\",\n",
    "}\n",
    "\n",
    "experiment = \"alexnet_cifar10\"\n",
    "# experiment = \"distilbert_ag_news\"\n",
    "\n",
    "if experiment == \"alexnet_cifar10\":\n",
    "    cs = np.linspace(0, 1, 257)[224:]\n",
    "elif experiment == \"distilbert_ag_news\":\n",
    "    cs = np.linspace(0, 1, 769)\n",
    "\n",
    "\n",
    "for method, color in color_map.items():\n",
    "    sns.lineplot(\n",
    "        x=cs,\n",
    "        y=np.load(f\"data/{experiment}/aA_ab_{metric}_{method}.npy\"),\n",
    "        color=color,\n",
    "        label=label_map[method],\n",
    "        linewidth=1\n",
    "    )\n",
    "\n",
    "pretty_graph()\n",
    "plt.xlabel(\"compression rate\")\n",
    "plt.ylabel(ylabel[metric])\n",
    "plt.savefig(f\"diagrams/{experiment}/aA_ab_{metric}.pdf\", bbox_inches=\"tight\")"
   ]
  },
  {
   "cell_type": "code",
   "execution_count": 62,
   "id": "54eebd2e",
   "metadata": {},
   "outputs": [
    {
     "ename": "ModuleNotFoundError",
     "evalue": "No module named 'torch'",
     "output_type": "error",
     "traceback": [
      "\u001b[0;31m---------------------------------------------------------------------------\u001b[0m",
      "\u001b[0;31mModuleNotFoundError\u001b[0m                       Traceback (most recent call last)",
      "Cell \u001b[0;32mIn[62], line 4\u001b[0m\n\u001b[1;32m      1\u001b[0m \u001b[38;5;66;03m# weight distribution\u001b[39;00m\n\u001b[1;32m      2\u001b[0m \n\u001b[1;32m      3\u001b[0m \u001b[38;5;66;03m# alexnet\u001b[39;00m\n\u001b[0;32m----> 4\u001b[0m \u001b[38;5;28;01mimport\u001b[39;00m\u001b[38;5;250m \u001b[39m\u001b[38;5;21;01mtorch\u001b[39;00m\n\u001b[1;32m      5\u001b[0m \u001b[38;5;28;01mfrom\u001b[39;00m\u001b[38;5;250m \u001b[39m\u001b[38;5;21;01malexnet_cifar10\u001b[39;00m\u001b[38;5;250m \u001b[39m\u001b[38;5;28;01mimport\u001b[39;00m AlexNet\n\u001b[1;32m      6\u001b[0m alexnet \u001b[38;5;241m=\u001b[39m AlexNet(num_classes\u001b[38;5;241m=\u001b[39m\u001b[38;5;241m10\u001b[39m)\n",
      "\u001b[0;31mModuleNotFoundError\u001b[0m: No module named 'torch'"
     ]
    }
   ],
   "source": [
    "# weight distribution\n",
    "\n",
    "# alexnet\n",
    "import torch\n",
    "from alexnet_cifar10 import AlexNet\n",
    "alexnet = AlexNet(num_classes=10)\n",
    "alexnet.load_state_dict(torch.load(\"modelweights\"))\n",
    "weight_alexnet = alexnet.features[21].weight.data.flatten().numpy()\n",
    "\n",
    "# distilbert\n",
    "from transformers import AutoModelForSequenceClassification\n",
    "distilbert = AutoModelForSequenceClassification.from_pretrained(\"textattack/distilbert-base-uncased-ag-news\")\n",
    "weight_distilbert = distilbert.pre_classifier.weight.data.flatten().numpy()\n",
    "\n",
    "sns.histplot(weight_alexnet, bins=100, stat=\"density\", label=\"AlexNet\")\n",
    "sns.histplot(weight_distilbert, bins=100, stat=\"density\", label=\"DistilBERT\")\n",
    "plt.title(\"Weight Distributions\")\n",
    "pretty_graph()"
   ]
  },
  {
   "cell_type": "code",
   "execution_count": null,
   "id": "15abd424",
   "metadata": {},
   "outputs": [],
   "source": []
  }
 ],
 "metadata": {
  "kernelspec": {
   "display_name": ".venv",
   "language": "python",
   "name": "python3"
  },
  "language_info": {
   "codemirror_mode": {
    "name": "ipython",
    "version": 3
   },
   "file_extension": ".py",
   "mimetype": "text/x-python",
   "name": "python",
   "nbconvert_exporter": "python",
   "pygments_lexer": "ipython3",
   "version": "3.9.6"
  }
 },
 "nbformat": 4,
 "nbformat_minor": 5
}
